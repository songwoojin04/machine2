{
  "nbformat": 4,
  "nbformat_minor": 0,
  "metadata": {
    "colab": {
      "provenance": [],
      "mount_file_id": "1RqDEjuIkOQQeiLLkyKmHEZZyOiFJbvs8",
      "authorship_tag": "ABX9TyN7hySWG/VToKPFfL4nbqhT",
      "include_colab_link": true
    },
    "kernelspec": {
      "name": "python3",
      "display_name": "Python 3"
    },
    "language_info": {
      "name": "python"
    }
  },
  "cells": [
    {
      "cell_type": "markdown",
      "metadata": {
        "id": "view-in-github",
        "colab_type": "text"
      },
      "source": [
        "<a href=\"https://colab.research.google.com/github/songwoojin04/machine2/blob/main/2week/diabetes.ipynb\" target=\"_parent\"><img src=\"https://colab.research.google.com/assets/colab-badge.svg\" alt=\"Open In Colab\"/></a>"
      ]
    },
    {
      "cell_type": "code",
      "execution_count": 3,
      "metadata": {
        "colab": {
          "base_uri": "https://localhost:8080/"
        },
        "id": "29fu76Dh-hNY",
        "outputId": "3ba50602-51a3-4dae-b830-15617a5679c6"
      },
      "outputs": [
        {
          "output_type": "stream",
          "name": "stdout",
          "text": [
            "=== Test Accuracy ===\n",
            "Decision Tree : 0.7273\n",
            "Random Forest : 0.7597\n",
            "Logistic Reg. : 0.7143\n"
          ]
        }
      ],
      "source": [
        "import pandas as pd\n",
        "\n",
        "from sklearn.model_selection import train_test_split\n",
        "\n",
        "from sklearn.tree import DecisionTreeClassifier\n",
        "\n",
        "from sklearn.ensemble import RandomForestClassifier\n",
        "\n",
        "from sklearn.linear_model import LogisticRegression\n",
        "\n",
        "from sklearn.metrics import accuracy_score\n",
        "\n",
        "# -----------------------------\n",
        "\n",
        "# 1) 데이터 준비\n",
        "\n",
        "# -----------------------------\n",
        "\n",
        "\n",
        "df = pd.read_csv(\"/content/drive/MyDrive/Colab Notebooks/diabetes.csv\")\n",
        "\n",
        "X = df.drop(columns=[\"Outcome\"])\n",
        "y = df[\"Outcome\"]\n",
        "\n",
        "\n",
        "\n",
        "X_train, X_test, y_train, y_test = train_test_split(\n",
        "    X, y, test_size=0.2, stratify=y, random_state=42\n",
        ")\n",
        "\n",
        "dt = DecisionTreeClassifier(random_state=42)\n",
        "rf = RandomForestClassifier(n_estimators=250, random_state=42)\n",
        "lr = LogisticRegression(max_iter=550)\n",
        "\n",
        "\n",
        "dt.fit(X_train, y_train)\n",
        "rf.fit(X_train, y_train)\n",
        "lr.fit(X_train, y_train)\n",
        "\n",
        "dt_acc = accuracy_score(y_test, dt.predict(X_test))\n",
        "rf_acc = accuracy_score(y_test, rf.predict(X_test))\n",
        "lr_acc = accuracy_score(y_test, lr.predict(X_test))\n",
        "\n",
        "print(\"=== Test Accuracy ===\")\n",
        "\n",
        "print(f\"Decision Tree : {dt_acc:.4f}\")\n",
        "print(f\"Random Forest : {rf_acc:.4f}\")\n",
        "print(f\"Logistic Reg. : {lr_acc:.4f}\")"
      ]
    },
    {
      "cell_type": "markdown",
      "source": [
        "아래는 diabetes 자료를 가지고 BMI 수치를 분석 및 예측하는 코드입니다."
      ],
      "metadata": {
        "id": "5aiErlni_Spx"
      }
    },
    {
      "cell_type": "code",
      "source": [
        "import pandas as pd\n",
        "from sklearn.model_selection import train_test_split\n",
        "from sklearn.tree import DecisionTreeRegressor\n",
        "from sklearn.ensemble import RandomForestRegressor\n",
        "from sklearn.linear_model import LinearRegression\n",
        "from sklearn.metrics import mean_squared_error, r2_score\n",
        "import numpy as np\n",
        "\n",
        "df = pd.read_csv(\"/content/drive/MyDrive/Colab Notebooks/diabetes.csv\")\n",
        "\n",
        "X = df.drop(columns=[\"BMI\"])\n",
        "y = df[\"BMI\"]\n",
        "\n",
        "X_train, X_test, y_train, y_test = train_test_split(\n",
        "    X, y, test_size=0.2, random_state=42\n",
        ")\n",
        "\n",
        "dt = DecisionTreeRegressor(random_state=42)\n",
        "rf = RandomForestRegressor(n_estimators=250, random_state=42)\n",
        "lr = LinearRegression()\n",
        "\n",
        "dt.fit(X_train, y_train)\n",
        "rf.fit(X_train, y_train)\n",
        "lr.fit(X_train, y_train)\n",
        "\n",
        "dt_pred = dt.predict(X_test)\n",
        "rf_pred = rf.predict(X_test)\n",
        "lr_pred = lr.predict(X_test)\n",
        "\n",
        "print(\"=== Test Performance ===\")\n",
        "print(f\"Decision Tree R2 : {r2_score(y_test, dt_pred):.4f}, RMSE: {np.sqrt(mean_squared_error(y_test, dt_pred)):.4f}\")\n",
        "print(f\"Random Forest R2 : {r2_score(y_test, rf_pred):.4f}, RMSE: {np.sqrt(mean_squared_error(y_test, rf_pred)):.4f}\")\n",
        "print(f\"Linear Regression R2 : {r2_score(y_test, lr_pred):.4f}, RMSE: {np.sqrt(mean_squared_error(y_test, lr_pred)):.4f}\")\n"
      ],
      "metadata": {
        "colab": {
          "base_uri": "https://localhost:8080/"
        },
        "id": "xVTTtmry_TFI",
        "outputId": "beee4740-9656-43df-b051-464dabc33502"
      },
      "execution_count": 4,
      "outputs": [
        {
          "output_type": "stream",
          "name": "stdout",
          "text": [
            "=== Test Performance ===\n",
            "Decision Tree R2 : -0.0325, RMSE: 8.5669\n",
            "Random Forest R2 : 0.3174, RMSE: 6.9656\n",
            "Linear Regression R2 : 0.2620, RMSE: 7.2429\n"
          ]
        }
      ]
    }
  ]
}