{
  "nbformat": 4,
  "nbformat_minor": 0,
  "metadata": {
    "colab": {
      "provenance": [],
      "mount_file_id": "15Wtiz6qlRbPCyGXgX6KakqSvU3FC9OD2",
      "authorship_tag": "ABX9TyMYKYCifYbD+YYKGrPaK4QA",
      "include_colab_link": true
    },
    "kernelspec": {
      "name": "python3",
      "display_name": "Python 3"
    },
    "language_info": {
      "name": "python"
    }
  },
  "cells": [
    {
      "cell_type": "markdown",
      "metadata": {
        "id": "view-in-github",
        "colab_type": "text"
      },
      "source": [
        "<a href=\"https://colab.research.google.com/github/songwoojin04/machine2/blob/main/2week/boston.ipynb\" target=\"_parent\"><img src=\"https://colab.research.google.com/assets/colab-badge.svg\" alt=\"Open In Colab\"/></a>"
      ]
    },
    {
      "cell_type": "code",
      "execution_count": 5,
      "metadata": {
        "colab": {
          "base_uri": "https://localhost:8080/"
        },
        "id": "7Y10KJ6OH7On",
        "outputId": "3c259c87-d145-434c-e2f9-2f7d62c77f9d"
      },
      "outputs": [
        {
          "output_type": "stream",
          "name": "stdout",
          "text": [
            "=== Test Accuracy ===\n",
            "Decision Tree : MSE=0.4818, R²=0.6323\n",
            "Random Forest : MSE=0.2386, R²=0.8179\n",
            "Linear Reg.   : MSE=0.5547, R²=0.5767\n"
          ]
        }
      ],
      "source": [
        "import pandas as pd\n",
        "from sklearn.model_selection import train_test_split\n",
        "from sklearn.tree import DecisionTreeRegressor\n",
        "from sklearn.ensemble import RandomForestRegressor\n",
        "from sklearn.linear_model import LinearRegression\n",
        "from sklearn.metrics import mean_squared_error, r2_score\n",
        "\n",
        "\n",
        "df = pd.read_csv(\"/content/drive/MyDrive/Colab Notebooks/boston.csv\")\n",
        "\n",
        "X = df.drop(columns=[\"PRICE\"])\n",
        "y = df[\"PRICE\"]\n",
        "\n",
        "X_train, X_test, y_train, y_test = train_test_split(\n",
        "    X, y, test_size=0.2, random_state=42\n",
        ")\n",
        "\n",
        "dt = DecisionTreeRegressor(random_state=42)\n",
        "rf = RandomForestRegressor(n_estimators=250, random_state=42)\n",
        "lr = LinearRegression()\n",
        "\n",
        "dt.fit(X_train, y_train)\n",
        "rf.fit(X_train, y_train)\n",
        "lr.fit(X_train, y_train)\n",
        "\n",
        "dt_pred = dt.predict(X_test)\n",
        "rf_pred = rf.predict(X_test)\n",
        "lr_pred = lr.predict(X_test)\n",
        "\n",
        "print(\"=== Test Accuracy ===\")\n",
        "print(f\"Decision Tree : MSE={mean_squared_error(y_test, dt_pred):.4f}, R²={r2_score(y_test, dt_pred):.4f}\")\n",
        "print(f\"Random Forest : MSE={mean_squared_error(y_test, rf_pred):.4f}, R²={r2_score(y_test, rf_pred):.4f}\")\n",
        "print(f\"Linear Reg.   : MSE={mean_squared_error(y_test, lr_pred):.4f}, R²={r2_score(y_test, lr_pred):.4f}\")"
      ]
    },
    {
      "cell_type": "markdown",
      "source": [
        "위의 코드의 경우 기존 코드에서 다루던 분류(Classification)와는 다르게 회귀(Regression) 버전이라서 시간이 걸린다"
      ],
      "metadata": {
        "id": "922GG1udJORS"
      }
    },
    {
      "cell_type": "markdown",
      "source": [
        "따라서 트리 개수 줄이기, 데이터 일부만 사용하기, Logistic Regression Solver 바꾸기를 통해 실행 시간을 줄였다."
      ],
      "metadata": {
        "id": "wSL4C_XaJeWt"
      }
    },
    {
      "cell_type": "code",
      "source": [
        "import pandas as pd\n",
        "from sklearn.model_selection import train_test_split\n",
        "from sklearn.tree import DecisionTreeRegressor\n",
        "from sklearn.ensemble import RandomForestRegressor\n",
        "from sklearn.linear_model import LinearRegression\n",
        "from sklearn.metrics import mean_squared_error, r2_score\n",
        "\n",
        "df = pd.read_csv(\"/content/drive/MyDrive/Colab Notebooks/boston.csv\")\n",
        "\n",
        "X = df.drop(columns=[\"PRICE\"])\n",
        "y = df[\"PRICE\"]\n",
        "\n",
        "X_train, X_test, y_train, y_test = train_test_split(\n",
        "    X, y, test_size=0.5, random_state=42\n",
        ")\n",
        "\n",
        "dt = DecisionTreeRegressor(random_state=42)\n",
        "rf = RandomForestRegressor(n_estimators=100, random_state=42, n_jobs=-1)\n",
        "lr = LinearRegression()\n",
        "\n",
        "dt.fit(X_train, y_train)\n",
        "rf.fit(X_train, y_train)\n",
        "lr.fit(X_train, y_train)\n",
        "\n",
        "dt_pred = dt.predict(X_test)\n",
        "rf_pred = rf.predict(X_test)\n",
        "lr_pred = lr.predict(X_test)\n",
        "\n",
        "print(\"=== Test Accuracy ===\")\n",
        "print(f\"Decision Tree : MSE={mean_squared_error(y_test, dt_pred):.4f}, R²={r2_score(y_test, dt_pred):.4f}\")\n",
        "print(f\"Random Forest : MSE={mean_squared_error(y_test, rf_pred):.4f}, R²={r2_score(y_test, rf_pred):.4f}\")\n",
        "print(f\"Linear Reg.   : MSE={mean_squared_error(y_test, lr_pred):.4f}, R²={r2_score(y_test, lr_pred):.4f}\")\n"
      ],
      "metadata": {
        "colab": {
          "base_uri": "https://localhost:8080/"
        },
        "id": "BoC_-uXOI310",
        "outputId": "9a3904eb-9657-4679-a569-d41f5660e57b"
      },
      "execution_count": 10,
      "outputs": [
        {
          "output_type": "stream",
          "name": "stdout",
          "text": [
            "=== Test Accuracy ===\n",
            "Decision Tree : MSE=0.5574, R²=0.5795\n",
            "Random Forest : MSE=0.2624, R²=0.8020\n",
            "Linear Reg.   : MSE=0.5295, R²=0.6005\n"
          ]
        }
      ]
    }
  ]
}