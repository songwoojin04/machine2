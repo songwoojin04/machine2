{
  "nbformat": 4,
  "nbformat_minor": 0,
  "metadata": {
    "colab": {
      "provenance": [],
      "gpuType": "T4",
      "authorship_tag": "ABX9TyN8peN5MHszj4YDc6U/ks/e",
      "include_colab_link": true
    },
    "kernelspec": {
      "name": "python3",
      "display_name": "Python 3"
    },
    "language_info": {
      "name": "python"
    },
    "accelerator": "GPU"
  },
  "cells": [
    {
      "cell_type": "markdown",
      "metadata": {
        "id": "view-in-github",
        "colab_type": "text"
      },
      "source": [
        "<a href=\"https://colab.research.google.com/github/songwoojin04/machine2/blob/main/7week/DNN_MNIST.ipynb\" target=\"_parent\"><img src=\"https://colab.research.google.com/assets/colab-badge.svg\" alt=\"Open In Colab\"/></a>"
      ]
    },
    {
      "cell_type": "code",
      "execution_count": 1,
      "metadata": {
        "colab": {
          "base_uri": "https://localhost:8080/"
        },
        "id": "Hmuc4tRrUajz",
        "outputId": "a4eb1bb3-64e1-48ab-ecd2-c75fa491f203"
      },
      "outputs": [
        {
          "output_type": "stream",
          "name": "stdout",
          "text": [
            "Downloading data from https://storage.googleapis.com/tensorflow/tf-keras-datasets/train-labels-idx1-ubyte.gz\n",
            "\u001b[1m29515/29515\u001b[0m \u001b[32m━━━━━━━━━━━━━━━━━━━━\u001b[0m\u001b[37m\u001b[0m \u001b[1m0s\u001b[0m 0us/step\n",
            "Downloading data from https://storage.googleapis.com/tensorflow/tf-keras-datasets/train-images-idx3-ubyte.gz\n",
            "\u001b[1m26421880/26421880\u001b[0m \u001b[32m━━━━━━━━━━━━━━━━━━━━\u001b[0m\u001b[37m\u001b[0m \u001b[1m0s\u001b[0m 0us/step\n",
            "Downloading data from https://storage.googleapis.com/tensorflow/tf-keras-datasets/t10k-labels-idx1-ubyte.gz\n",
            "\u001b[1m5148/5148\u001b[0m \u001b[32m━━━━━━━━━━━━━━━━━━━━\u001b[0m\u001b[37m\u001b[0m \u001b[1m0s\u001b[0m 0us/step\n",
            "Downloading data from https://storage.googleapis.com/tensorflow/tf-keras-datasets/t10k-images-idx3-ubyte.gz\n",
            "\u001b[1m4422102/4422102\u001b[0m \u001b[32m━━━━━━━━━━━━━━━━━━━━\u001b[0m\u001b[37m\u001b[0m \u001b[1m0s\u001b[0m 0us/step\n"
          ]
        }
      ],
      "source": [
        "import tensorflow as tf\n",
        "from tensorflow.keras import layers, models\n",
        "\n",
        "fashion_mnist = tf.keras.datasets.fashion_mnist\n",
        "(x_train, y_train), (x_test, y_test) = fashion_mnist.load_data()"
      ]
    },
    {
      "cell_type": "code",
      "source": [
        "x_train = x_train / 255.0\n",
        "x_test = x_test / 255.0"
      ],
      "metadata": {
        "id": "uiKFufNzVavw"
      },
      "execution_count": 2,
      "outputs": []
    },
    {
      "cell_type": "code",
      "source": [
        "from keras.models import Sequential\n",
        "from keras.layers import Dense, Input, Flatten\n",
        "\n",
        "model = Sequential()\n",
        "model.add(Input(shape=(28, 28)))\n",
        "model.add(Flatten())\n",
        "model.add(Dense(256, activation='relu'))\n",
        "model.add(Dense(128, activation='relu'))\n",
        "model.add(Dense(10, activation='softmax'))\n",
        "\n",
        "model.compile(optimizer='adam', loss='sparse_categorical_crossentropy', metrics=['accuracy'])"
      ],
      "metadata": {
        "id": "qO1CK59-Vbpl"
      },
      "execution_count": 3,
      "outputs": []
    },
    {
      "cell_type": "code",
      "source": [
        "history = model.fit(x_train, y_train, epochs=10, validation_split=0.1, batch_size=128, verbose=2)"
      ],
      "metadata": {
        "colab": {
          "base_uri": "https://localhost:8080/"
        },
        "id": "PGnnE5vhWHVy",
        "outputId": "c0c478e5-3ef2-4ca7-d69e-4246bcc754f1"
      },
      "execution_count": 4,
      "outputs": [
        {
          "output_type": "stream",
          "name": "stdout",
          "text": [
            "Epoch 1/10\n",
            "422/422 - 5s - 11ms/step - accuracy: 0.8126 - loss: 0.5348 - val_accuracy: 0.8547 - val_loss: 0.3946\n",
            "Epoch 2/10\n",
            "422/422 - 1s - 2ms/step - accuracy: 0.8648 - loss: 0.3763 - val_accuracy: 0.8605 - val_loss: 0.3791\n",
            "Epoch 3/10\n",
            "422/422 - 1s - 3ms/step - accuracy: 0.8762 - loss: 0.3375 - val_accuracy: 0.8770 - val_loss: 0.3381\n",
            "Epoch 4/10\n",
            "422/422 - 2s - 4ms/step - accuracy: 0.8871 - loss: 0.3091 - val_accuracy: 0.8837 - val_loss: 0.3229\n",
            "Epoch 5/10\n",
            "422/422 - 1s - 3ms/step - accuracy: 0.8932 - loss: 0.2891 - val_accuracy: 0.8792 - val_loss: 0.3359\n",
            "Epoch 6/10\n",
            "422/422 - 2s - 4ms/step - accuracy: 0.8982 - loss: 0.2734 - val_accuracy: 0.8897 - val_loss: 0.3213\n",
            "Epoch 7/10\n",
            "422/422 - 1s - 3ms/step - accuracy: 0.9026 - loss: 0.2620 - val_accuracy: 0.8770 - val_loss: 0.3340\n",
            "Epoch 8/10\n",
            "422/422 - 1s - 3ms/step - accuracy: 0.9053 - loss: 0.2498 - val_accuracy: 0.8838 - val_loss: 0.3197\n",
            "Epoch 9/10\n",
            "422/422 - 1s - 2ms/step - accuracy: 0.9105 - loss: 0.2413 - val_accuracy: 0.8895 - val_loss: 0.3244\n",
            "Epoch 10/10\n",
            "422/422 - 1s - 3ms/step - accuracy: 0.9143 - loss: 0.2300 - val_accuracy: 0.8915 - val_loss: 0.3118\n"
          ]
        }
      ]
    },
    {
      "cell_type": "code",
      "source": [
        "test_loss, test_acc = model.evaluate(x_test, y_test, verbose=2)\n",
        "print(f\"DNN 결과: {test_acc:.4f}\")"
      ],
      "metadata": {
        "colab": {
          "base_uri": "https://localhost:8080/"
        },
        "id": "PB88OPJ4XpSQ",
        "outputId": "7a25eadd-6057-43b2-9006-51af68e6ca82"
      },
      "execution_count": 6,
      "outputs": [
        {
          "output_type": "stream",
          "name": "stdout",
          "text": [
            "313/313 - 2s - 7ms/step - accuracy: 0.8817 - loss: 0.3367\n",
            "DNN 결과: 0.8817\n"
          ]
        }
      ]
    }
  ]
}