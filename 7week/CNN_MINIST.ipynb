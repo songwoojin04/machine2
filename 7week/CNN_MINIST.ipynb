{
  "cells": [
    {
      "cell_type": "markdown",
      "metadata": {
        "id": "view-in-github",
        "colab_type": "text"
      },
      "source": [
        "<a href=\"https://colab.research.google.com/github/songwoojin04/machine2/blob/main/7week/CNN_MINIST.ipynb\" target=\"_parent\"><img src=\"https://colab.research.google.com/assets/colab-badge.svg\" alt=\"Open In Colab\"/></a>"
      ]
    },
    {
      "cell_type": "code",
      "execution_count": 26,
      "metadata": {
        "id": "9XizFeFYX55T"
      },
      "outputs": [],
      "source": [
        "import tensorflow as tf\n",
        "import numpy as np\n",
        "\n",
        "fashion_mnist = tf.keras.datasets.fashion_mnist\n",
        "(x_train, y_train), (x_test, y_test) = fashion_mnist.load_data()"
      ]
    },
    {
      "cell_type": "code",
      "execution_count": 27,
      "metadata": {
        "colab": {
          "base_uri": "https://localhost:8080/"
        },
        "id": "25pxfQchYBTV",
        "outputId": "5329634b-b070-45b5-ef0f-566716838dd1"
      },
      "outputs": [
        {
          "output_type": "stream",
          "name": "stdout",
          "text": [
            "x_train shape: (60000, 28, 28, 1)\n",
            "x_test shape: (10000, 28, 28, 1)\n"
          ]
        }
      ],
      "source": [
        "x_train = x_train / 255.0\n",
        "x_test = x_test / 255.0\n",
        "x_train = x_train[..., tf.newaxis]\n",
        "x_test = x_test[..., tf.newaxis]\n",
        "\n",
        "print(\"x_train shape:\", x_train.shape)\n",
        "print(\"x_test shape:\", x_test.shape)"
      ]
    },
    {
      "cell_type": "code",
      "execution_count": 28,
      "metadata": {
        "id": "nozz0B7tY-wy"
      },
      "outputs": [],
      "source": [
        "from keras.models import Sequential\n",
        "from keras.layers import Dense, Conv2D, Flatten, MaxPooling2D\n",
        "\n",
        "model = Sequential([\n",
        "    Conv2D(32, (3, 3), activation='relu', input_shape=(28, 28, 1)),\n",
        "    MaxPooling2D((2, 2)),\n",
        "    Conv2D(64, (3, 3), activation='relu'),\n",
        "    MaxPooling2D((2, 2)),\n",
        "    Conv2D(128, (3, 3), activation='relu'),\n",
        "    Flatten(),\n",
        "    Dense(128, activation='relu'),\n",
        "    Dense(10, activation='softmax')\n",
        "])\n",
        "\n",
        "model.compile(optimizer='adam', loss='sparse_categorical_crossentropy', metrics=['accuracy'])"
      ]
    },
    {
      "cell_type": "code",
      "execution_count": 29,
      "metadata": {
        "colab": {
          "base_uri": "https://localhost:8080/"
        },
        "id": "2EwmxLx1arnD",
        "outputId": "0c7b62c8-ec5c-4ea5-b39d-60297403d20e"
      },
      "outputs": [
        {
          "output_type": "stream",
          "name": "stdout",
          "text": [
            "Epoch 1/13\n",
            "422/422 - 6s - 15ms/step - accuracy: 0.7813 - loss: 0.5990 - val_accuracy: 0.8533 - val_loss: 0.3981\n",
            "Epoch 2/13\n",
            "422/422 - 2s - 4ms/step - accuracy: 0.8686 - loss: 0.3619 - val_accuracy: 0.8807 - val_loss: 0.3323\n",
            "Epoch 3/13\n",
            "422/422 - 2s - 4ms/step - accuracy: 0.8879 - loss: 0.3097 - val_accuracy: 0.8870 - val_loss: 0.3046\n",
            "Epoch 4/13\n",
            "422/422 - 2s - 5ms/step - accuracy: 0.8989 - loss: 0.2777 - val_accuracy: 0.8950 - val_loss: 0.2873\n",
            "Epoch 5/13\n",
            "422/422 - 2s - 4ms/step - accuracy: 0.9067 - loss: 0.2534 - val_accuracy: 0.8950 - val_loss: 0.2903\n",
            "Epoch 6/13\n",
            "422/422 - 2s - 4ms/step - accuracy: 0.9139 - loss: 0.2362 - val_accuracy: 0.8970 - val_loss: 0.2810\n",
            "Epoch 7/13\n",
            "422/422 - 2s - 4ms/step - accuracy: 0.9197 - loss: 0.2178 - val_accuracy: 0.9072 - val_loss: 0.2553\n",
            "Epoch 8/13\n",
            "422/422 - 2s - 4ms/step - accuracy: 0.9251 - loss: 0.1995 - val_accuracy: 0.9075 - val_loss: 0.2647\n",
            "Epoch 9/13\n",
            "422/422 - 2s - 4ms/step - accuracy: 0.9310 - loss: 0.1875 - val_accuracy: 0.9122 - val_loss: 0.2482\n",
            "Epoch 10/13\n",
            "422/422 - 2s - 5ms/step - accuracy: 0.9358 - loss: 0.1731 - val_accuracy: 0.9165 - val_loss: 0.2471\n",
            "Epoch 11/13\n",
            "422/422 - 2s - 5ms/step - accuracy: 0.9408 - loss: 0.1571 - val_accuracy: 0.9160 - val_loss: 0.2515\n",
            "Epoch 12/13\n",
            "422/422 - 2s - 4ms/step - accuracy: 0.9473 - loss: 0.1417 - val_accuracy: 0.9168 - val_loss: 0.2484\n",
            "Epoch 13/13\n",
            "422/422 - 2s - 4ms/step - accuracy: 0.9519 - loss: 0.1313 - val_accuracy: 0.9177 - val_loss: 0.2632\n"
          ]
        }
      ],
      "source": [
        "history = model.fit(x_train, y_train, epochs=13, validation_split=0.1, batch_size=128, verbose=2)"
      ]
    },
    {
      "cell_type": "code",
      "execution_count": 30,
      "metadata": {
        "colab": {
          "base_uri": "https://localhost:8080/"
        },
        "id": "XpD0xXfAdu5_",
        "outputId": "a5df1645-86f3-4303-d834-0519af9b30b2"
      },
      "outputs": [
        {
          "output_type": "stream",
          "name": "stdout",
          "text": [
            "313/313 - 2s - 5ms/step - accuracy: 0.9097 - loss: 0.2855\n",
            "Test Accuracy: 0.9097\n"
          ]
        },
        {
          "output_type": "stream",
          "name": "stderr",
          "text": [
            "WARNING:tensorflow:5 out of the last 6 calls to <function TensorFlowTrainer.make_predict_function.<locals>.one_step_on_data_distributed at 0x7907983b76a0> triggered tf.function retracing. Tracing is expensive and the excessive number of tracings could be due to (1) creating @tf.function repeatedly in a loop, (2) passing tensors with different shapes, (3) passing Python objects instead of tensors. For (1), please define your @tf.function outside of the loop. For (2), @tf.function has reduce_retracing=True option that can avoid unnecessary retracing. For (3), please refer to https://www.tensorflow.org/guide/function#controlling_retracing and https://www.tensorflow.org/api_docs/python/tf/function for  more details.\n"
          ]
        },
        {
          "output_type": "stream",
          "name": "stdout",
          "text": [
            "\u001b[1m1/1\u001b[0m \u001b[32m━━━━━━━━━━━━━━━━━━━━\u001b[0m\u001b[37m\u001b[0m \u001b[1m0s\u001b[0m 298ms/step\n",
            "예측 결과: [9 2 1 1 6]\n",
            "실제 레이블: [9 2 1 1 6]\n"
          ]
        }
      ],
      "source": [
        "test_loss, test_acc = model.evaluate(x_test, y_test, verbose=2)\n",
        "print(f\"Test Accuracy: {test_acc:.4f}\")\n",
        "\n",
        "predictions = model.predict(x_test[:5])\n",
        "print(\"예측 결과:\", np.argmax(predictions, axis=1))\n",
        "print(\"실제 레이블:\", y_test[:5])"
      ]
    }
  ],
  "metadata": {
    "accelerator": "GPU",
    "colab": {
      "gpuType": "T4",
      "toc_visible": true,
      "provenance": [],
      "authorship_tag": "ABX9TyNxffPtfgLdB8xbogCTwN0R",
      "include_colab_link": true
    },
    "kernelspec": {
      "display_name": "Python 3",
      "name": "python3"
    },
    "language_info": {
      "name": "python"
    }
  },
  "nbformat": 4,
  "nbformat_minor": 0
}